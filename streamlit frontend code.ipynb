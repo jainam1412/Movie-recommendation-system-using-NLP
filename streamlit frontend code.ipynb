{
 "cells": [
  {
   "cell_type": "code",
   "execution_count": 12,
   "id": "1cc3feca",
   "metadata": {},
   "outputs": [],
   "source": [
    "import streamlit as st\n",
    "import pickle\n",
    "import pandas as pd\n",
    "import requests\n",
    "\n",
    "def recommend(movie):\n",
    "    movie_index = movies[movies['title'] == movie].index[0]\n",
    "    distances = similarity[movie_index]\n",
    "    # this code tells that we have to sort on the basis of 2nd number after comma and [1:6] shows the number of recommendations we want.\n",
    "    movies_list = sorted(list(enumerate(distances)), reverse=True, key=lambda x: x[1])[1:6]\n",
    "\n",
    "#def fetch_poster(movie_id):\n",
    "    #requests.get()\n",
    "    recommended_movies=[]\n",
    "    for i in movies_list:\n",
    "        recommended_movies.append(movies.iloc[i[0]].title)\n",
    "    return recommended_movies\n",
    "\n",
    "movies_dict= pickle.load(open(\"movie_dict.pkl\", 'rb'))\n",
    "movies= pd.DataFrame(movies_dict)\n",
    "similarity=pickle.load(open('similarity.pkl','rb'))\n",
    "st.title('Movie Recommender System by Satyam')\n",
    "\n",
    "selected_movie_name=st.selectbox('Search movies : ',movies['title'].values)\n",
    "\n",
    "if st.button('Recommend'):\n",
    "    recommendations= recommend(selected_movie_name)\n",
    "    for i in recommendations:\n",
    "        st.write(i)\n"
   ]
  },
  {
   "cell_type": "code",
   "execution_count": null,
   "id": "a4042946",
   "metadata": {},
   "outputs": [],
   "source": []
  },
  {
   "cell_type": "code",
   "execution_count": null,
   "id": "56136817",
   "metadata": {},
   "outputs": [],
   "source": []
  }
 ],
 "metadata": {
  "kernelspec": {
   "display_name": "Python 3 (ipykernel)",
   "language": "python",
   "name": "python3"
  },
  "language_info": {
   "codemirror_mode": {
    "name": "ipython",
    "version": 3
   },
   "file_extension": ".py",
   "mimetype": "text/x-python",
   "name": "python",
   "nbconvert_exporter": "python",
   "pygments_lexer": "ipython3",
   "version": "3.11.5"
  }
 },
 "nbformat": 4,
 "nbformat_minor": 5
}
